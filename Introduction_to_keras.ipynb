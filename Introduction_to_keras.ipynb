{
  "nbformat": 4,
  "nbformat_minor": 0,
  "metadata": {
    "colab": {
      "name": "Introduction_to_keras.ipynb",
      "provenance": [],
      "collapsed_sections": [],
      "include_colab_link": true
    },
    "kernelspec": {
      "name": "python3",
      "display_name": "Python 3"
    }
  },
  "cells": [
    {
      "cell_type": "markdown",
      "metadata": {
        "id": "view-in-github",
        "colab_type": "text"
      },
      "source": [
        "<a href=\"https://colab.research.google.com/github/sahar123456/introduction_to_keras/blob/master/Introduction_to_keras.ipynb\" target=\"_parent\"><img src=\"https://colab.research.google.com/assets/colab-badge.svg\" alt=\"Open In Colab\"/></a>"
      ]
    },
    {
      "cell_type": "code",
      "metadata": {
        "id": "2cZvNUwqpBwW",
        "colab_type": "code",
        "colab": {}
      },
      "source": [
        "from __future__ import absolute_import\n",
        "from __future__ import division\n",
        "from __future__ import print_function"
      ],
      "execution_count": 0,
      "outputs": []
    },
    {
      "cell_type": "code",
      "metadata": {
        "id": "SBIq6KPbpwux",
        "colab_type": "code",
        "colab": {
          "base_uri": "https://localhost:8080/",
          "height": 51
        },
        "outputId": "8484e3d3-adc9-4152-83a5-1850fb0778ff"
      },
      "source": [
        "# Install the latest version of TensorFlow\n",
        "!pip install -q -U tensorflow==1.12.0"
      ],
      "execution_count": 2,
      "outputs": [
        {
          "output_type": "stream",
          "text": [
            "\u001b[K     |████████████████████████████████| 83.1MB 42kB/s \n",
            "\u001b[K     |████████████████████████████████| 3.1MB 37.8MB/s \n",
            "\u001b[?25h"
          ],
          "name": "stdout"
        }
      ]
    },
    {
      "cell_type": "code",
      "metadata": {
        "id": "XNXW2KghqArt",
        "colab_type": "code",
        "colab": {
          "base_uri": "https://localhost:8080/",
          "height": 304
        },
        "outputId": "f3393239-3703-4b1a-f937-a90a5231d7a0"
      },
      "source": [
        "import itertools\n",
        "import os\n",
        "import math\n",
        "import numpy as np\n",
        "import pandas as pd\n",
        "import tensorflow as tf\n",
        "\n",
        "from sklearn.preprocessing import LabelEncoder\n",
        "from tensorflow import keras\n",
        "layers = keras.layers\n",
        "\n",
        "# This code was tested with TensorFlow v1.12.0\n",
        "print(\"You have TensorFlow version\", tf.__version__)"
      ],
      "execution_count": 3,
      "outputs": [
        {
          "output_type": "stream",
          "text": [
            "/usr/local/lib/python3.6/dist-packages/tensorflow/python/framework/dtypes.py:523: FutureWarning: Passing (type, 1) or '1type' as a synonym of type is deprecated; in a future version of numpy, it will be understood as (type, (1,)) / '(1,)type'.\n",
            "  _np_qint8 = np.dtype([(\"qint8\", np.int8, 1)])\n",
            "/usr/local/lib/python3.6/dist-packages/tensorflow/python/framework/dtypes.py:524: FutureWarning: Passing (type, 1) or '1type' as a synonym of type is deprecated; in a future version of numpy, it will be understood as (type, (1,)) / '(1,)type'.\n",
            "  _np_quint8 = np.dtype([(\"quint8\", np.uint8, 1)])\n",
            "/usr/local/lib/python3.6/dist-packages/tensorflow/python/framework/dtypes.py:525: FutureWarning: Passing (type, 1) or '1type' as a synonym of type is deprecated; in a future version of numpy, it will be understood as (type, (1,)) / '(1,)type'.\n",
            "  _np_qint16 = np.dtype([(\"qint16\", np.int16, 1)])\n",
            "/usr/local/lib/python3.6/dist-packages/tensorflow/python/framework/dtypes.py:526: FutureWarning: Passing (type, 1) or '1type' as a synonym of type is deprecated; in a future version of numpy, it will be understood as (type, (1,)) / '(1,)type'.\n",
            "  _np_quint16 = np.dtype([(\"quint16\", np.uint16, 1)])\n",
            "/usr/local/lib/python3.6/dist-packages/tensorflow/python/framework/dtypes.py:527: FutureWarning: Passing (type, 1) or '1type' as a synonym of type is deprecated; in a future version of numpy, it will be understood as (type, (1,)) / '(1,)type'.\n",
            "  _np_qint32 = np.dtype([(\"qint32\", np.int32, 1)])\n",
            "/usr/local/lib/python3.6/dist-packages/tensorflow/python/framework/dtypes.py:532: FutureWarning: Passing (type, 1) or '1type' as a synonym of type is deprecated; in a future version of numpy, it will be understood as (type, (1,)) / '(1,)type'.\n",
            "  np_resource = np.dtype([(\"resource\", np.ubyte, 1)])\n"
          ],
          "name": "stderr"
        },
        {
          "output_type": "display_data",
          "data": {
            "text/html": [
              "<p style=\"color: red;\">\n",
              "The default version of TensorFlow in Colab will soon switch to TensorFlow 2.x.<br>\n",
              "We recommend you <a href=\"https://www.tensorflow.org/guide/migrate\" target=\"_blank\">upgrade</a> now \n",
              "or ensure your notebook will continue to use TensorFlow 1.x via the <code>%tensorflow_version 1.x</code> magic:\n",
              "<a href=\"https://colab.research.google.com/notebooks/tensorflow_version.ipynb\" target=\"_blank\">more info</a>.</p>\n"
            ],
            "text/plain": [
              "<IPython.core.display.HTML object>"
            ]
          },
          "metadata": {
            "tags": []
          }
        },
        {
          "output_type": "stream",
          "text": [
            "You have TensorFlow version 1.12.0\n"
          ],
          "name": "stdout"
        }
      ]
    },
    {
      "cell_type": "code",
      "metadata": {
        "id": "bXqDM5T5qWyz",
        "colab_type": "code",
        "colab": {
          "base_uri": "https://localhost:8080/",
          "height": 51
        },
        "outputId": "bc2ece60-4871-44ac-e3b6-e4351c250ffe"
      },
      "source": [
        "# Get the data: original source is here: https://www.kaggle.com/zynicide/wine-reviews/data\n",
        "URL = \"https://storage.googleapis.com/sara-cloud-ml/wine_data.csv\"\n",
        "path = tf.keras.utils.get_file(URL.split('/')[-1], URL)\n"
      ],
      "execution_count": 4,
      "outputs": [
        {
          "output_type": "stream",
          "text": [
            "Downloading data from https://storage.googleapis.com/sara-cloud-ml/wine_data.csv\n",
            "49790976/49783940 [==============================] - 1s 0us/step\n"
          ],
          "name": "stdout"
        }
      ]
    },
    {
      "cell_type": "code",
      "metadata": {
        "id": "G3jhkcN6qdDN",
        "colab_type": "code",
        "colab": {}
      },
      "source": [
        "# Convert the data to a Pandas data frame\n",
        "data = pd.read_csv(path)"
      ],
      "execution_count": 0,
      "outputs": []
    },
    {
      "cell_type": "code",
      "metadata": {
        "id": "SsbtJLI7qjU9",
        "colab_type": "code",
        "colab": {
          "base_uri": "https://localhost:8080/",
          "height": 306
        },
        "outputId": "c34b51a3-608a-4b6b-cd01-5066901b1205"
      },
      "source": [
        "# Shuffle the data\n",
        "data = data.sample(frac=1)\n",
        "\n",
        "# Print the first 5 rows\n",
        "data.head()"
      ],
      "execution_count": 8,
      "outputs": [
        {
          "output_type": "execute_result",
          "data": {
            "text/html": [
              "<div>\n",
              "<style scoped>\n",
              "    .dataframe tbody tr th:only-of-type {\n",
              "        vertical-align: middle;\n",
              "    }\n",
              "\n",
              "    .dataframe tbody tr th {\n",
              "        vertical-align: top;\n",
              "    }\n",
              "\n",
              "    .dataframe thead th {\n",
              "        text-align: right;\n",
              "    }\n",
              "</style>\n",
              "<table border=\"1\" class=\"dataframe\">\n",
              "  <thead>\n",
              "    <tr style=\"text-align: right;\">\n",
              "      <th></th>\n",
              "      <th>Unnamed: 0</th>\n",
              "      <th>country</th>\n",
              "      <th>description</th>\n",
              "      <th>designation</th>\n",
              "      <th>points</th>\n",
              "      <th>price</th>\n",
              "      <th>province</th>\n",
              "      <th>region_1</th>\n",
              "      <th>region_2</th>\n",
              "      <th>variety</th>\n",
              "      <th>winery</th>\n",
              "    </tr>\n",
              "  </thead>\n",
              "  <tbody>\n",
              "    <tr>\n",
              "      <th>67262</th>\n",
              "      <td>67262</td>\n",
              "      <td>France</td>\n",
              "      <td>A fascinating nose, with grapefruit, kiwi, cit...</td>\n",
              "      <td>Cuvée Henri</td>\n",
              "      <td>88</td>\n",
              "      <td>30.0</td>\n",
              "      <td>Alsace</td>\n",
              "      <td>Alsace</td>\n",
              "      <td>NaN</td>\n",
              "      <td>Riesling</td>\n",
              "      <td>Lucien Albrecht</td>\n",
              "    </tr>\n",
              "    <tr>\n",
              "      <th>48190</th>\n",
              "      <td>48190</td>\n",
              "      <td>US</td>\n",
              "      <td>Stainless steel-fermented and kept on the lees...</td>\n",
              "      <td>NaN</td>\n",
              "      <td>86</td>\n",
              "      <td>15.0</td>\n",
              "      <td>Oregon</td>\n",
              "      <td>Willamette Valley</td>\n",
              "      <td>Willamette Valley</td>\n",
              "      <td>Pinot Gris</td>\n",
              "      <td>Walnut City WineWorks</td>\n",
              "    </tr>\n",
              "    <tr>\n",
              "      <th>68401</th>\n",
              "      <td>68401</td>\n",
              "      <td>South Africa</td>\n",
              "      <td>A strong nose of cat pee and green bean leads ...</td>\n",
              "      <td>NaN</td>\n",
              "      <td>85</td>\n",
              "      <td>15.0</td>\n",
              "      <td>Durbanville</td>\n",
              "      <td>NaN</td>\n",
              "      <td>NaN</td>\n",
              "      <td>Sauvignon Blanc</td>\n",
              "      <td>Nitída</td>\n",
              "    </tr>\n",
              "    <tr>\n",
              "      <th>70617</th>\n",
              "      <td>70617</td>\n",
              "      <td>Germany</td>\n",
              "      <td>Serious and earthy, like walking into a wall o...</td>\n",
              "      <td>Graacher Himmelreich Spätlese</td>\n",
              "      <td>91</td>\n",
              "      <td>NaN</td>\n",
              "      <td>Mosel</td>\n",
              "      <td>NaN</td>\n",
              "      <td>NaN</td>\n",
              "      <td>Riesling</td>\n",
              "      <td>Joh. Jos. Prüm</td>\n",
              "    </tr>\n",
              "    <tr>\n",
              "      <th>50623</th>\n",
              "      <td>50623</td>\n",
              "      <td>Spain</td>\n",
              "      <td>Lively right off the bat but also sort of jumb...</td>\n",
              "      <td>Abadal</td>\n",
              "      <td>87</td>\n",
              "      <td>18.0</td>\n",
              "      <td>Catalonia</td>\n",
              "      <td>Pla de Bages</td>\n",
              "      <td>NaN</td>\n",
              "      <td>Cabernet Franc-Tempranillo</td>\n",
              "      <td>Masies d'Avinyo</td>\n",
              "    </tr>\n",
              "  </tbody>\n",
              "</table>\n",
              "</div>"
            ],
            "text/plain": [
              "       Unnamed: 0  ...                 winery\n",
              "67262       67262  ...        Lucien Albrecht\n",
              "48190       48190  ...  Walnut City WineWorks\n",
              "68401       68401  ...                 Nitída\n",
              "70617       70617  ...         Joh. Jos. Prüm\n",
              "50623       50623  ...        Masies d'Avinyo\n",
              "\n",
              "[5 rows x 11 columns]"
            ]
          },
          "metadata": {
            "tags": []
          },
          "execution_count": 8
        }
      ]
    },
    {
      "cell_type": "code",
      "metadata": {
        "id": "Ue-nhNUaq0Qq",
        "colab_type": "code",
        "colab": {}
      },
      "source": [
        "# Do some preprocessing to limit the # of wine varities in the dataset\n",
        "data = data[pd.notnull(data['country'])]\n",
        "data = data[pd.notnull(data['price'])]\n",
        "data = data.drop(data.columns[0], axis=1) \n",
        "\n",
        "variety_threshold = 500 # Anything that occurs less than this will be removed.\n",
        "value_counts = data['variety'].value_counts()\n",
        "to_remove = value_counts[value_counts <= variety_threshold].index\n",
        "data.replace(to_remove, np.nan, inplace=True)\n",
        "data = data[pd.notnull(data['variety'])]"
      ],
      "execution_count": 0,
      "outputs": []
    },
    {
      "cell_type": "code",
      "metadata": {
        "id": "9UVIhJ_wrcRy",
        "colab_type": "code",
        "colab": {
          "base_uri": "https://localhost:8080/",
          "height": 51
        },
        "outputId": "d3cfa0a4-e427-4c4e-a840-006803645726"
      },
      "source": [
        "# Split data into train and test\n",
        "train_size = int(len(data) * .8)\n",
        "print (\"Train size: %d\" % train_size)\n",
        "print (\"Test size: %d\" % (len(data) - train_size))"
      ],
      "execution_count": 11,
      "outputs": [
        {
          "output_type": "stream",
          "text": [
            "Train size: 95646\n",
            "Test size: 23912\n"
          ],
          "name": "stdout"
        }
      ]
    },
    {
      "cell_type": "code",
      "metadata": {
        "id": "MW3Dk9RCrgep",
        "colab_type": "code",
        "colab": {}
      },
      "source": [
        "# Train features\n",
        "description_train = data['description'][:train_size]\n",
        "variety_train = data['variety'][:train_size]\n",
        "\n",
        "# Train labels\n",
        "labels_train = data['price'][:train_size]\n",
        "\n",
        "# Test features\n",
        "description_test = data['description'][train_size:]\n",
        "variety_test = data['variety'][train_size:]\n",
        "\n",
        "# Test labels\n",
        "labels_test = data['price'][train_size:]"
      ],
      "execution_count": 0,
      "outputs": []
    },
    {
      "cell_type": "code",
      "metadata": {
        "id": "Q1cMNhjNrr-V",
        "colab_type": "code",
        "colab": {}
      },
      "source": [
        "# Create a tokenizer to preprocess our text descriptions\n",
        "vocab_size = 12000 # This is a hyperparameter, experiment with different values for your dataset\n",
        "tokenize = keras.preprocessing.text.Tokenizer(num_words=vocab_size, char_level=False)\n",
        "tokenize.fit_on_texts(description_train) # only fit on train"
      ],
      "execution_count": 0,
      "outputs": []
    },
    {
      "cell_type": "code",
      "metadata": {
        "id": "DzSdiVF2rvGj",
        "colab_type": "code",
        "colab": {}
      },
      "source": [
        "# Wide feature 1: sparse bag of words (bow) vocab_size vector \n",
        "description_bow_train = tokenize.texts_to_matrix(description_train)\n",
        "description_bow_test = tokenize.texts_to_matrix(description_test)"
      ],
      "execution_count": 0,
      "outputs": []
    },
    {
      "cell_type": "code",
      "metadata": {
        "id": "d4FU___OrzO7",
        "colab_type": "code",
        "colab": {
          "base_uri": "https://localhost:8080/",
          "height": 374
        },
        "outputId": "191fabeb-94a2-4531-c3bf-8fc2a2aef7e7"
      },
      "source": [
        "#Wide feature 2: one-hot vector of variety categories\n",
        "# Use sklearn utility to convert label strings to numbered index\n",
        "encoder = LabelEncoder()\n",
        "encoder.fit(variety_train)\n",
        "variety_train = encoder.transform(variety_train)\n",
        "variety_test = encoder.transform(variety_test)\n",
        "num_classes = np.max(variety_train) + 1\n",
        "\n",
        "# Convert labels to one hot\n",
        "variety_train = keras.utils.to_categorical(variety_train, num_classes)\n",
        "variety_test = keras.utils.to_categorical(variety_test, num_classes)"
      ],
      "execution_count": 20,
      "outputs": [
        {
          "output_type": "error",
          "ename": "ValueError",
          "evalue": "ignored",
          "traceback": [
            "\u001b[0;31m---------------------------------------------------------------------------\u001b[0m",
            "\u001b[0;31mValueError\u001b[0m                                Traceback (most recent call last)",
            "\u001b[0;32m<ipython-input-20-7049d76632a5>\u001b[0m in \u001b[0;36m<module>\u001b[0;34m()\u001b[0m\n\u001b[1;32m      1\u001b[0m \u001b[0mencoder\u001b[0m \u001b[0;34m=\u001b[0m \u001b[0mLabelEncoder\u001b[0m\u001b[0;34m(\u001b[0m\u001b[0;34m)\u001b[0m\u001b[0;34m\u001b[0m\u001b[0;34m\u001b[0m\u001b[0m\n\u001b[0;32m----> 2\u001b[0;31m \u001b[0mencoder\u001b[0m\u001b[0;34m.\u001b[0m\u001b[0mfit\u001b[0m\u001b[0;34m(\u001b[0m\u001b[0mvariety_train\u001b[0m\u001b[0;34m)\u001b[0m\u001b[0;34m\u001b[0m\u001b[0;34m\u001b[0m\u001b[0m\n\u001b[0m\u001b[1;32m      3\u001b[0m \u001b[0mvariety_train\u001b[0m \u001b[0;34m=\u001b[0m \u001b[0mencoder\u001b[0m\u001b[0;34m.\u001b[0m\u001b[0mtransform\u001b[0m\u001b[0;34m(\u001b[0m\u001b[0mvariety_train\u001b[0m\u001b[0;34m)\u001b[0m\u001b[0;34m\u001b[0m\u001b[0;34m\u001b[0m\u001b[0m\n\u001b[1;32m      4\u001b[0m \u001b[0mvariety_test\u001b[0m \u001b[0;34m=\u001b[0m \u001b[0mencoder\u001b[0m\u001b[0;34m.\u001b[0m\u001b[0mtransform\u001b[0m\u001b[0;34m(\u001b[0m\u001b[0mvariety_test\u001b[0m\u001b[0;34m)\u001b[0m\u001b[0;34m\u001b[0m\u001b[0;34m\u001b[0m\u001b[0m\n\u001b[1;32m      5\u001b[0m \u001b[0mnum_classes\u001b[0m \u001b[0;34m=\u001b[0m \u001b[0mnp\u001b[0m\u001b[0;34m.\u001b[0m\u001b[0mmax\u001b[0m\u001b[0;34m(\u001b[0m\u001b[0mvariety_train\u001b[0m\u001b[0;34m)\u001b[0m \u001b[0;34m+\u001b[0m \u001b[0;36m1\u001b[0m\u001b[0;34m\u001b[0m\u001b[0;34m\u001b[0m\u001b[0m\n",
            "\u001b[0;32m/usr/local/lib/python3.6/dist-packages/sklearn/preprocessing/label.py\u001b[0m in \u001b[0;36mfit\u001b[0;34m(self, y)\u001b[0m\n\u001b[1;32m    217\u001b[0m         \u001b[0mself\u001b[0m \u001b[0;34m:\u001b[0m \u001b[0mreturns\u001b[0m \u001b[0man\u001b[0m \u001b[0minstance\u001b[0m \u001b[0mof\u001b[0m \u001b[0mself\u001b[0m\u001b[0;34m.\u001b[0m\u001b[0;34m\u001b[0m\u001b[0;34m\u001b[0m\u001b[0m\n\u001b[1;32m    218\u001b[0m         \"\"\"\n\u001b[0;32m--> 219\u001b[0;31m         \u001b[0my\u001b[0m \u001b[0;34m=\u001b[0m \u001b[0mcolumn_or_1d\u001b[0m\u001b[0;34m(\u001b[0m\u001b[0my\u001b[0m\u001b[0;34m,\u001b[0m \u001b[0mwarn\u001b[0m\u001b[0;34m=\u001b[0m\u001b[0;32mTrue\u001b[0m\u001b[0;34m)\u001b[0m\u001b[0;34m\u001b[0m\u001b[0;34m\u001b[0m\u001b[0m\n\u001b[0m\u001b[1;32m    220\u001b[0m         \u001b[0mself\u001b[0m\u001b[0;34m.\u001b[0m\u001b[0mclasses_\u001b[0m \u001b[0;34m=\u001b[0m \u001b[0m_encode\u001b[0m\u001b[0;34m(\u001b[0m\u001b[0my\u001b[0m\u001b[0;34m)\u001b[0m\u001b[0;34m\u001b[0m\u001b[0;34m\u001b[0m\u001b[0m\n\u001b[1;32m    221\u001b[0m         \u001b[0;32mreturn\u001b[0m \u001b[0mself\u001b[0m\u001b[0;34m\u001b[0m\u001b[0;34m\u001b[0m\u001b[0m\n",
            "\u001b[0;32m/usr/local/lib/python3.6/dist-packages/sklearn/utils/validation.py\u001b[0m in \u001b[0;36mcolumn_or_1d\u001b[0;34m(y, warn)\u001b[0m\n\u001b[1;32m    758\u001b[0m         \u001b[0;32mreturn\u001b[0m \u001b[0mnp\u001b[0m\u001b[0;34m.\u001b[0m\u001b[0mravel\u001b[0m\u001b[0;34m(\u001b[0m\u001b[0my\u001b[0m\u001b[0;34m)\u001b[0m\u001b[0;34m\u001b[0m\u001b[0;34m\u001b[0m\u001b[0m\n\u001b[1;32m    759\u001b[0m \u001b[0;34m\u001b[0m\u001b[0m\n\u001b[0;32m--> 760\u001b[0;31m     \u001b[0;32mraise\u001b[0m \u001b[0mValueError\u001b[0m\u001b[0;34m(\u001b[0m\u001b[0;34m\"bad input shape {0}\"\u001b[0m\u001b[0;34m.\u001b[0m\u001b[0mformat\u001b[0m\u001b[0;34m(\u001b[0m\u001b[0mshape\u001b[0m\u001b[0;34m)\u001b[0m\u001b[0;34m)\u001b[0m\u001b[0;34m\u001b[0m\u001b[0;34m\u001b[0m\u001b[0m\n\u001b[0m\u001b[1;32m    761\u001b[0m \u001b[0;34m\u001b[0m\u001b[0m\n\u001b[1;32m    762\u001b[0m \u001b[0;34m\u001b[0m\u001b[0m\n",
            "\u001b[0;31mValueError\u001b[0m: bad input shape (95646, 40)"
          ]
        }
      ]
    },
    {
      "cell_type": "code",
      "metadata": {
        "id": "RGkXNvzlse83",
        "colab_type": "code",
        "colab": {}
      },
      "source": [
        "# Define our wide model with the functional API\n",
        "bow_inputs = layers.Input(shape=(vocab_size,))\n",
        "variety_inputs = layers.Input(shape=(num_classes,))\n",
        "merged_layer = layers.concatenate([bow_inputs, variety_inputs])\n",
        "merged_layer = layers.Dense(256, activation='relu')(merged_layer)\n",
        "predictions = layers.Dense(1)(merged_layer)\n",
        "wide_model = keras.Model(inputs=[bow_inputs, variety_inputs], outputs=predictions)"
      ],
      "execution_count": 0,
      "outputs": []
    },
    {
      "cell_type": "code",
      "metadata": {
        "id": "5Y2HEIX4snGE",
        "colab_type": "code",
        "colab": {
          "base_uri": "https://localhost:8080/",
          "height": 340
        },
        "outputId": "df288722-ccb4-41d4-8f0a-9155a565ab62"
      },
      "source": [
        "wide_model.compile(loss='mse', optimizer='adam', metrics=['accuracy'])\n",
        "print(wide_model.summary())"
      ],
      "execution_count": 22,
      "outputs": [
        {
          "output_type": "stream",
          "text": [
            "__________________________________________________________________________________________________\n",
            "Layer (type)                    Output Shape         Param #     Connected to                     \n",
            "==================================================================================================\n",
            "input_1 (InputLayer)            (None, 12000)        0                                            \n",
            "__________________________________________________________________________________________________\n",
            "input_2 (InputLayer)            (None, 40)           0                                            \n",
            "__________________________________________________________________________________________________\n",
            "concatenate (Concatenate)       (None, 12040)        0           input_1[0][0]                    \n",
            "                                                                 input_2[0][0]                    \n",
            "__________________________________________________________________________________________________\n",
            "dense (Dense)                   (None, 256)          3082496     concatenate[0][0]                \n",
            "__________________________________________________________________________________________________\n",
            "dense_1 (Dense)                 (None, 1)            257         dense[0][0]                      \n",
            "==================================================================================================\n",
            "Total params: 3,082,753\n",
            "Trainable params: 3,082,753\n",
            "Non-trainable params: 0\n",
            "__________________________________________________________________________________________________\n",
            "None\n"
          ],
          "name": "stdout"
        }
      ]
    },
    {
      "cell_type": "code",
      "metadata": {
        "id": "j4d7b_ZHsuC6",
        "colab_type": "code",
        "colab": {}
      },
      "source": [
        "# Deep model feature: word embeddings of wine descriptions\n",
        "train_embed = tokenize.texts_to_sequences(description_train)\n",
        "test_embed = tokenize.texts_to_sequences(description_test)\n",
        "\n",
        "max_seq_length = 170\n",
        "train_embed = keras.preprocessing.sequence.pad_sequences(\n",
        "    train_embed, maxlen=max_seq_length, padding=\"post\")\n",
        "test_embed = keras.preprocessing.sequence.pad_sequences(\n",
        "    test_embed, maxlen=max_seq_length, padding=\"post\")"
      ],
      "execution_count": 0,
      "outputs": []
    },
    {
      "cell_type": "code",
      "metadata": {
        "id": "8_HQ1RcJszRs",
        "colab_type": "code",
        "colab": {
          "base_uri": "https://localhost:8080/",
          "height": 289
        },
        "outputId": "8f1bad6a-2f34-4f55-ec47-1742abec323e"
      },
      "source": [
        "# Define our deep model with the Functional API\n",
        "deep_inputs = layers.Input(shape=(max_seq_length,))\n",
        "embedding = layers.Embedding(vocab_size, 8, input_length=max_seq_length)(deep_inputs)\n",
        "embedding = layers.Flatten()(embedding)\n",
        "embed_out = layers.Dense(1)(embedding)\n",
        "deep_model = keras.Model(inputs=deep_inputs, outputs=embed_out)\n",
        "print(deep_model.summary())"
      ],
      "execution_count": 24,
      "outputs": [
        {
          "output_type": "stream",
          "text": [
            "_________________________________________________________________\n",
            "Layer (type)                 Output Shape              Param #   \n",
            "=================================================================\n",
            "input_3 (InputLayer)         (None, 170)               0         \n",
            "_________________________________________________________________\n",
            "embedding (Embedding)        (None, 170, 8)            96000     \n",
            "_________________________________________________________________\n",
            "flatten (Flatten)            (None, 1360)              0         \n",
            "_________________________________________________________________\n",
            "dense_2 (Dense)              (None, 1)                 1361      \n",
            "=================================================================\n",
            "Total params: 97,361\n",
            "Trainable params: 97,361\n",
            "Non-trainable params: 0\n",
            "_________________________________________________________________\n",
            "None\n"
          ],
          "name": "stdout"
        }
      ]
    },
    {
      "cell_type": "code",
      "metadata": {
        "id": "Wfz1wS7Us5Fd",
        "colab_type": "code",
        "colab": {}
      },
      "source": [
        "deep_model.compile(loss='mse',\n",
        "                       optimizer='adam',\n",
        "                       metrics=['accuracy'])"
      ],
      "execution_count": 0,
      "outputs": []
    },
    {
      "cell_type": "code",
      "metadata": {
        "id": "HKaVLCL1s-Sd",
        "colab_type": "code",
        "colab": {
          "base_uri": "https://localhost:8080/",
          "height": 561
        },
        "outputId": "0cd9d488-0e23-450f-8ac1-9c26f70f0e0c"
      },
      "source": [
        "# Combine wide and deep into one model\n",
        "merged_out = layers.concatenate([wide_model.output, deep_model.output])\n",
        "merged_out = layers.Dense(1)(merged_out)\n",
        "combined_model = keras.Model(wide_model.input + [deep_model.input], merged_out)\n",
        "print(combined_model.summary())\n",
        "\n",
        "combined_model.compile(loss='mse',\n",
        "                       optimizer='adam',\n",
        "                       metrics=['accuracy'])"
      ],
      "execution_count": 26,
      "outputs": [
        {
          "output_type": "stream",
          "text": [
            "__________________________________________________________________________________________________\n",
            "Layer (type)                    Output Shape         Param #     Connected to                     \n",
            "==================================================================================================\n",
            "input_1 (InputLayer)            (None, 12000)        0                                            \n",
            "__________________________________________________________________________________________________\n",
            "input_2 (InputLayer)            (None, 40)           0                                            \n",
            "__________________________________________________________________________________________________\n",
            "input_3 (InputLayer)            (None, 170)          0                                            \n",
            "__________________________________________________________________________________________________\n",
            "concatenate (Concatenate)       (None, 12040)        0           input_1[0][0]                    \n",
            "                                                                 input_2[0][0]                    \n",
            "__________________________________________________________________________________________________\n",
            "embedding (Embedding)           (None, 170, 8)       96000       input_3[0][0]                    \n",
            "__________________________________________________________________________________________________\n",
            "dense (Dense)                   (None, 256)          3082496     concatenate[0][0]                \n",
            "__________________________________________________________________________________________________\n",
            "flatten (Flatten)               (None, 1360)         0           embedding[0][0]                  \n",
            "__________________________________________________________________________________________________\n",
            "dense_1 (Dense)                 (None, 1)            257         dense[0][0]                      \n",
            "__________________________________________________________________________________________________\n",
            "dense_2 (Dense)                 (None, 1)            1361        flatten[0][0]                    \n",
            "__________________________________________________________________________________________________\n",
            "concatenate_1 (Concatenate)     (None, 2)            0           dense_1[0][0]                    \n",
            "                                                                 dense_2[0][0]                    \n",
            "__________________________________________________________________________________________________\n",
            "dense_3 (Dense)                 (None, 1)            3           concatenate_1[0][0]              \n",
            "==================================================================================================\n",
            "Total params: 3,180,117\n",
            "Trainable params: 3,180,117\n",
            "Non-trainable params: 0\n",
            "__________________________________________________________________________________________________\n",
            "None\n"
          ],
          "name": "stdout"
        }
      ]
    },
    {
      "cell_type": "code",
      "metadata": {
        "id": "lSFTw5tbtDPa",
        "colab_type": "code",
        "colab": {
          "base_uri": "https://localhost:8080/",
          "height": 428
        },
        "outputId": "90b6bf1f-ed2f-4439-8c75-5824843aebeb"
      },
      "source": [
        "# Run training\n",
        "combined_model.fit([description_bow_train, variety_train] + [train_embed], labels_train, epochs=10, batch_size=128)"
      ],
      "execution_count": 27,
      "outputs": [
        {
          "output_type": "stream",
          "text": [
            "/usr/local/lib/python3.6/dist-packages/tensorflow/python/ops/gradients_impl.py:112: UserWarning: Converting sparse IndexedSlices to a dense Tensor of unknown shape. This may consume a large amount of memory.\n",
            "  \"Converting sparse IndexedSlices to a dense Tensor of unknown shape. \"\n"
          ],
          "name": "stderr"
        },
        {
          "output_type": "stream",
          "text": [
            "Epoch 1/10\n",
            "95646/95646 [==============================] - 75s 784us/step - loss: 1171.4533 - acc: 0.0000e+00\n",
            "Epoch 2/10\n",
            "95646/95646 [==============================] - 73s 764us/step - loss: 917.6726 - acc: 0.0000e+00\n",
            "Epoch 3/10\n",
            "95646/95646 [==============================] - 73s 763us/step - loss: 770.0032 - acc: 0.0000e+00\n",
            "Epoch 4/10\n",
            "95646/95646 [==============================] - 73s 766us/step - loss: 640.1262 - acc: 0.0000e+00\n",
            "Epoch 5/10\n",
            "95646/95646 [==============================] - 73s 768us/step - loss: 518.7716 - acc: 0.0000e+00\n",
            "Epoch 6/10\n",
            "95646/95646 [==============================] - 74s 770us/step - loss: 405.8370 - acc: 0.0000e+00\n",
            "Epoch 7/10\n",
            "95646/95646 [==============================] - 73s 764us/step - loss: 313.1239 - acc: 0.0000e+00\n",
            "Epoch 8/10\n",
            "95646/95646 [==============================] - 74s 770us/step - loss: 237.8823 - acc: 0.0000e+00\n",
            "Epoch 9/10\n",
            "95646/95646 [==============================] - 74s 771us/step - loss: 181.1562 - acc: 0.0000e+00\n",
            "Epoch 10/10\n",
            "95646/95646 [==============================] - 73s 767us/step - loss: 138.6111 - acc: 0.0000e+00\n"
          ],
          "name": "stdout"
        },
        {
          "output_type": "execute_result",
          "data": {
            "text/plain": [
              "<tensorflow.python.keras.callbacks.History at 0x7f222894dcc0>"
            ]
          },
          "metadata": {
            "tags": []
          },
          "execution_count": 27
        }
      ]
    },
    {
      "cell_type": "code",
      "metadata": {
        "id": "UQ6ZjcKftIzI",
        "colab_type": "code",
        "colab": {
          "base_uri": "https://localhost:8080/",
          "height": 51
        },
        "outputId": "6f9997ed-6e0d-436a-ad47-daf6b967ebeb"
      },
      "source": [
        "combined_model.evaluate([description_bow_test, variety_test] + [test_embed], labels_test, batch_size=128)"
      ],
      "execution_count": 28,
      "outputs": [
        {
          "output_type": "stream",
          "text": [
            "23912/23912 [==============================] - 7s 287us/step\n"
          ],
          "name": "stdout"
        },
        {
          "output_type": "execute_result",
          "data": {
            "text/plain": [
              "[536.3136072704408, 0.0]"
            ]
          },
          "metadata": {
            "tags": []
          },
          "execution_count": 28
        }
      ]
    },
    {
      "cell_type": "code",
      "metadata": {
        "id": "IbPsglojwD7q",
        "colab_type": "code",
        "colab": {}
      },
      "source": [
        "# Generate predictions\n",
        "predictions = combined_model.predict([description_bow_test, variety_test] + [test_embed])"
      ],
      "execution_count": 0,
      "outputs": []
    },
    {
      "cell_type": "code",
      "metadata": {
        "id": "ANg902AqwMJq",
        "colab_type": "code",
        "colab": {
          "base_uri": "https://localhost:8080/",
          "height": 1000
        },
        "outputId": "5fe88c8a-93b4-440d-8e73-d8fb1218480f"
      },
      "source": [
        "# Compare predictions with actual values for the first few items in our test dataset\n",
        "num_predictions = 40\n",
        "diff = 0\n",
        "\n",
        "for i in range(num_predictions):\n",
        "    val = predictions[i]\n",
        "    print(description_test.iloc[i])\n",
        "    print('Predicted: ', val[0], 'Actual: ', labels_test.iloc[i], '\\n')\n",
        "    diff += abs(val[0] - labels_test.iloc[i])"
      ],
      "execution_count": 32,
      "outputs": [
        {
          "output_type": "stream",
          "text": [
            "Soft, rich, but still with fine acidity to keep the freshness, this is a white fruit- and citrus-flavored wine that broadens well in the mouth. The fruit is ripe, hinting at almonds, with just a light toast edge. Imported by Wilson Daniels Ltd.\n",
            "Predicted:  46.355 Actual:  29.0 \n",
            "\n",
            "Cabernet, Merlot, Sangiovese and Syrah produce a sophisticated and refined blend that boasts fantastic power and intensity. The wine is dark, chewy, rich and bursting with flavors of mature berry, spice, cola, leather and tobacco.\n",
            "Predicted:  32.490738 Actual:  35.0 \n",
            "\n",
            "There's lots of rich acidity in this wine. It braces the tremendous pear and pineapple fruit and sweet oak, and lends the wine zest and structure. Finishes with a brilliant array of tangy spices.\n",
            "Predicted:  23.361502 Actual:  28.0 \n",
            "\n",
            "Sommeliers, run, don't walk, to scoop this one up by the case. It's really good, a dry, softly balanced Cab that will back up food, not dominate it. Ready to drink now for its easy tannins and upfront blackberry and currant flavors.\n",
            "Predicted:  22.323275 Actual:  18.0 \n",
            "\n",
            "Very pale straw in color, this sparkler delivers measured aromas of honeydew, pear and crushed stone. It's a direct and genuine wine that delivers the goods at an attractive price. Tasty and clean in the mouth. Imported by Zonin USA.\n",
            "Predicted:  16.119215 Actual:  15.0 \n",
            "\n",
            "Soft and fruity, a mix of apples and peaches, with a hint of toasted cracker. A simple, light Sauv Blanc that is smooth and easy-drinking.\n",
            "Predicted:  12.8642235 Actual:  14.0 \n",
            "\n",
            "A deliciously refreshing wine that bursts with citrus freshness, rounded out by white currant and pear flavors. The wood hints are attractively subtle, giving a wine of poise, elegance. Age for six months for it to show at its best. Imported by Frederick Wildman & Sons, Ltd.\n",
            "Predicted:  55.315277 Actual:  40.0 \n",
            "\n",
            "Nice, fairly elegant red wine, gently structured and dry, with a silky texture and bursting with the most intense cherry liqueur flavor. It's a bit of a fruit bomb, though, and could use greater complexity.\n",
            "Predicted:  35.754005 Actual:  24.0 \n",
            "\n",
            "The vineyard is near Sebastopol, in a cool part of this vast appellation, and the vintage was cool. The result is a lean wine with high acidity. The flavors straddle the ripeness line, with cherries and strawberries along with green tomatoes and rhubarb.\n",
            "Predicted:  33.657883 Actual:  38.0 \n",
            "\n",
            "This attractive wine opens with a nicely nuanced bouquet of berry, spice and earth accented by positive gamy and slightly barnyardy notes. The textured palate offers attractive dark fruit and a touch of tar and licorice. Ends with an even, dry, long finish of pepper, earth and leather.\n",
            "Predicted:  27.636845 Actual:  30.0 \n",
            "\n",
            "Smells and tastes overoaked, with toothpicky vanilla and smoky char notes. The amount of new French wood was 50%. The jammy raspberry, cherry and currant fruit just isn't intense or complex enough to support all that weight. Drink now.\n",
            "Predicted:  41.69822 Actual:  44.0 \n",
            "\n",
            "Dense and dark smelling, with coconut, tobacco, perfumed berry fruit and leather aromas. Feels powerful and layered, with tough tannins and a rugged overall mouthfeel. Flavors of dark berry, toast, herb and spice are rewarding, while the finish is herbal and chocolaty.\n",
            "Predicted:  23.179277 Actual:  20.0 \n",
            "\n",
            "Ripe red cherries with hints of fresh green herbs and menthol perfume both the nose and palate of this elegant, medium-bodied Cabernet Sauvignon. On the palate, intense fruit flavors gain complexity with sprinklings of olives, cedar and sturdy tannins that lead to a long, sour cherry finish.\n",
            "Predicted:  21.68685 Actual:  15.0 \n",
            "\n",
            "This value-priced wine struts like it comes from a better neighborhood. The nose is clean and is centered on berry fruit, while the palate is medium in size, with creamy, sweet berry flavors. Mildly medicinal and candied, but good overall.\n",
            "Predicted:  6.6763306 Actual:  8.0 \n",
            "\n",
            "Good and dry, with some fine blackberry and black currant flavors. But it's pretty hard in acidity and tannins, and cellaring probably won't help resolve those issues. Drink now.\n",
            "Predicted:  23.870737 Actual:  30.0 \n",
            "\n",
            "Clean and well made, but underwhelming. There's basic blueberry and blackberry flavors riding on a medium-bodied palate, but overall the wine is more generic than specific. It's easygoing and causes no red flags to go up, however at the end of the day it doesn't show much personality.\n",
            "Predicted:  16.376558 Actual:  12.0 \n",
            "\n",
            "Lots of rich blackberry, cherry and chocolate fruit in this dry Cabernet, with a pretty application of oak. Tannins and acids give it plenty of structure, but it's not an ager.\n",
            "Predicted:  40.76683 Actual:  24.0 \n",
            "\n",
            "The bouquet of this wine starts off subtle and dainty, needing time to become more expressive and reveal scents of cured meat, sweet smoke, violet and small red berries. Gamy notes are at the forefront of the medium-weight palate, with underlying flavors of red cherry and currant. A smoky, savory and spicy selection; drink now–2017.\n",
            "Predicted:  69.26814 Actual:  75.0 \n",
            "\n",
            "Despite cool growing conditions in 2011, this version of Kai shows raisiny, fully ripe aromas of loamy blackberry combined with graphite. A rich palate is grounded by good acidity, while flavors of lemony oak, olive, mocha and vanilla work alongside core berry. On the finish, chocolaty notes blend with residual black-fruit flavors. Drink through 2018.\n",
            "Predicted:  60.63054 Actual:  235.0 \n",
            "\n",
            "A very nice wine, kind of a mongrel with its array of varietals, but rich and satisfying. Braced with crisp acidity, it offers flavors of tangerines, peaches, Meyer lemons, limes, green apples and honey, with a pleasant minerality. The blend is Viognier, Riesling, Sauvignon Blanc, Chardonnay and Pinot Gris.\n",
            "Predicted:  18.53124 Actual:  18.0 \n",
            "\n",
            "A properly fruity 10-year-old tawny, balancing ripe fruit against fine, nutty character. It is fresh, on the sweet side, keeping a good layer of acidity.\n",
            "Predicted:  32.82266 Actual:  35.0 \n",
            "\n",
            "Intensely jammy in blueberry and black cherry flavors, and sharp in young, juicy grape acidity, this basically dry wine has a lot of fruity ripeness in the finish, with a touch of cocoa and vanilla.\n",
            "Predicted:  10.6315565 Actual:  11.0 \n",
            "\n",
            "Pungent aromas of tangerine and passionfruit get it going, so it's not shocking that the palate is zesty and citric, with flavors of passionfruit, lemon and orange. A little dilute in body, with passionfruit as the prime survivor on the finish.\n",
            "Predicted:  7.727061 Actual:  16.0 \n",
            "\n",
            "Semi-sweet, this wine combines cherry and chocolate flavors with a vegetal, asparagus taste that detracts from the pleasures a dessert wine ought to bring.\n",
            "Predicted:  26.078735 Actual:  24.0 \n",
            "\n",
            "Cassis, black cherry and other solid dark-fruit aromas seem solid and inviting. The palate is saturated but shows good texture and flow, while the flavors and essence of cassis, raspberry and eucaplytus are ingrained all the way to the finish. Springy, tasty and attractive, but not complicated.\n",
            "Predicted:  13.24911 Actual:  14.0 \n",
            "\n",
            "This “queen” (regina) Syrah boasts aromas of cherry candy, blueberry pie, coffee, leather and smoked meat. You'll pick up cherry cough drop, root beer and licorice midpalate: The mouthfeel is still a bit raw and needs two more years.\n",
            "Predicted:  36.23526 Actual:  40.0 \n",
            "\n",
            "Initial tight acidity in this crisp wine gives way to smooth rich black fruits. This already has a fine balance with its ripe juiciness and delicious red-berry flavors. It is going to develop into a very fine wine. Drink from 2024.\n",
            "Predicted:  40.004776 Actual:  75.0 \n",
            "\n",
            "Lightly structured, this is a balanced, ripe wine. It has profited from the good vintage to offer strawberry, raspberry and citrus flavors that are well balanced and textured. Drink this attractive wine now.\n",
            "Predicted:  15.459032 Actual:  15.0 \n",
            "\n",
            "Despite sufficient residual sugar to render it off-dry, this Pinot Gris retains a slightly tart, lean character. Underripe stone fruit and pineapple flavors lack richness and generosity, ending on a tart, citrusy note.\n",
            "Predicted:  26.350801 Actual:  22.0 \n",
            "\n",
            "This is the second wine of Château Pibran, whose vineyard is situated close to those of the the first growths of Mouton and Lafite. Structured and dense, this is a solid, powerful wine, packed with juicy black currant fruits and generous tannins. Give this wine until 2018 before drinking.\n",
            "Predicted:  92.43129 Actual:  32.0 \n",
            "\n",
            "Mossy and quite woody, and maybe even bretty, but also rich and stout, with concentration. Aromas of cheesey black fruit are staunch, while the round palate has richness, thickness and flavors of molasses, baked berries and licorice. Finishes surprisingly quick.\n",
            "Predicted:  14.32773 Actual:  20.0 \n",
            "\n",
            "Here's yet another excellent wine from this modern-leaning Riojano producer. The nose is full of spice, tobacco and deep berry aromas. Feels quasi-jammy and very rich, with thickness and mild tannins. Tastes baked, like a mix of prune, spicecake and chocolate. Warm and figgy on the finish, and ready to drink now.\n",
            "Predicted:  37.050816 Actual:  143.0 \n",
            "\n",
            "This is a terrific white wine from the Etna area of Sicily (representing a blend of Carricante and Catarratto) that delivers a rich, generous style with loads of density and intensity. Soft aromas of peach, apricot, dried hay and honey bring up the rear.\n",
            "Predicted:  33.736282 Actual:  18.0 \n",
            "\n",
            "Minerality and spicy smoke paired with soft Bartlett pear are a nice introduction, followed by flavors of limey citrus, honeydew and petrol. A lean and refreshing wine with a clean snappy finish.\n",
            "Predicted:  65.63845 Actual:  103.0 \n",
            "\n",
            "Quite light, suggesting fruit that was picked at less than optimal ripeness. This thin wine has tart red fruit, a streak of caraway seed and a finish with sweet cracker highlights.\n",
            "Predicted:  37.78736 Actual:  40.0 \n",
            "\n",
            "For a rosado cava, this offers nice fruit, balance and complexity. The nose is pure cherry and raspberry, but in subdued doses. Meanwhile, it's zesty, foamy and fresh in the mouth, with nectarine, plum, strawberry and prickle. Perfectly nice for everyday quaffing.\n",
            "Predicted:  12.091771 Actual:  12.0 \n",
            "\n",
            "A big, muscular Pinot, in the manner of this vineyard. It's dry but sweetly rich and dense in cherries, black raspberries, mulberries, cola and cedar, with thick tannins. The silky texture and bright acidity make it drinkable now, yet it should develop in the bottle over the next six years.\n",
            "Predicted:  49.37246 Actual:  48.0 \n",
            "\n",
            "Terre di Sofia is an oak-aged Chardonnay, with lemon zest, vanilla, exotic fruit, pineapple and light shadings of exotic spice. It's smooth and supple in the mouth.\n",
            "Predicted:  25.25807 Actual:  29.0 \n",
            "\n",
            "Sharp aromas mix with softer ones, yielding a conflicted bouquet. The palate is plump as far as feel goes, with pithy flavors, honeyed citrus and lasting green bitterness. A melony wine that has its moments but is too pithy and bitter to make a better impression.\n",
            "Predicted:  5.0258603 Actual:  13.0 \n",
            "\n",
            "Green, unripe vegetal flavors mark this Pinot Noir. It does have some decent raspberry and cherry flavors, but turns sour on the finish.\n",
            "Predicted:  14.296739 Actual:  48.0 \n",
            "\n"
          ],
          "name": "stdout"
        }
      ]
    },
    {
      "cell_type": "code",
      "metadata": {
        "id": "HnKlDDAxwTWf",
        "colab_type": "code",
        "colab": {
          "base_uri": "https://localhost:8080/",
          "height": 34
        },
        "outputId": "ac592c6f-2608-48b7-9087-dcfa4f3dec5e"
      },
      "source": [
        "# Compare the average difference between actual price and the model's predicted price\n",
        "print('Average prediction difference: ', diff / num_predictions)"
      ],
      "execution_count": 33,
      "outputs": [
        {
          "output_type": "stream",
          "text": [
            "Average prediction difference:  15.442932295799256\n"
          ],
          "name": "stdout"
        }
      ]
    }
  ]
}